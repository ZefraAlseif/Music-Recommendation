{
  "nbformat": 4,
  "nbformat_minor": 0,
  "metadata": {
    "colab": {
      "provenance": [],
      "collapsed_sections": [
        "Un6CgbhqbLsh",
        "4I1S8O880B6L",
        "XvNiLf_u_EV1",
        "CY_dknlqetai",
        "Sv1sD8S5aYlC",
        "77OVC8zBaeGS"
      ],
      "history_visible": true,
      "include_colab_link": true
    },
    "kernelspec": {
      "name": "python3",
      "display_name": "Python 3"
    },
    "language_info": {
      "name": "python"
    },
    "gpuClass": "standard"
  },
  "cells": [
    {
      "cell_type": "markdown",
      "metadata": {
        "id": "view-in-github",
        "colab_type": "text"
      },
      "source": [
        "<a href=\"https://colab.research.google.com/github/ZefraAlseif/Music-Recommendation/blob/main/Music_Recommendation.ipynb\" target=\"_parent\"><img src=\"https://colab.research.google.com/assets/colab-badge.svg\" alt=\"Open In Colab\"/></a>"
      ]
    },
    {
      "cell_type": "markdown",
      "source": [
        "# Topic \n",
        "\n",
        "A machine learning algorithm if a user will like a music based on audio parameters."
      ],
      "metadata": {
        "id": "lvY_nrFMaqeV"
      }
    },
    {
      "cell_type": "markdown",
      "source": [
        "# Importing Libraries"
      ],
      "metadata": {
        "id": "Un6CgbhqbLsh"
      }
    },
    {
      "cell_type": "code",
      "execution_count": null,
      "metadata": {
        "id": "LPjLH12ZYlBW"
      },
      "outputs": [],
      "source": [
        "import matplotlib.pyplot as plt\n",
        "import seaborn as sns\n",
        "import numpy as np\n",
        "import pandas as pd\n",
        "from io import StringIO\n",
        "from sklearn.preprocessing import LabelEncoder\n",
        "import sklearn \n",
        "from sklearn.model_selection import train_test_split\n",
        "from numpy import array\n",
        "from numpy import argmax\n",
        "from sklearn.preprocessing import LabelEncoder\n",
        "from sklearn.preprocessing import OneHotEncoder\n",
        "import copy\n",
        "from keras.engine.input_layer import Input\n",
        "import tensorflow as tf\n",
        "from tensorflow import keras\n",
        "from tensorflow.keras import layers\n",
        "from sklearn.neighbors import KNeighborsClassifier\n",
        "from sklearn.naive_bayes import GaussianNB\n",
        "from sklearn.neural_network import MLPClassifier\n",
        "from google.colab import files\n",
        "import os, shutil, pathlib\n",
        "from tensorflow.keras.preprocessing import image_dataset_from_directory\n",
        "from keras import regularizers\n",
        "from sklearn.utils import validation\n",
        "from sklearn.model_selection import GridSearchCV\n",
        "from sklearn.tree import DecisionTreeClassifier\n",
        "from sklearn.svm import SVC\n",
        "from sklearn.ensemble import RandomForestClassifier\n",
        "from sklearn.metrics import plot_confusion_matrix\n",
        "from sklearn.metrics import classification_report"
      ]
    },
    {
      "cell_type": "markdown",
      "source": [
        "# Uploading Kaggle JSon File"
      ],
      "metadata": {
        "id": "Cv01G0MRbdF_"
      }
    },
    {
      "cell_type": "code",
      "source": [
        "files.upload() # Upload the Json File located corresponding to the user"
      ],
      "metadata": {
        "id": "t6fXyAW_T2xq",
        "colab": {
          "base_uri": "https://localhost:8080/",
          "height": 90
        },
        "outputId": "744c2a58-b5e8-4997-b4ec-8b28a963ee3a"
      },
      "execution_count": null,
      "outputs": [
        {
          "output_type": "display_data",
          "data": {
            "text/plain": [
              "<IPython.core.display.HTML object>"
            ],
            "text/html": [
              "\n",
              "     <input type=\"file\" id=\"files-88f756f9-b9ef-49d3-b4fb-db7e84443221\" name=\"files[]\" multiple disabled\n",
              "        style=\"border:none\" />\n",
              "     <output id=\"result-88f756f9-b9ef-49d3-b4fb-db7e84443221\">\n",
              "      Upload widget is only available when the cell has been executed in the\n",
              "      current browser session. Please rerun this cell to enable.\n",
              "      </output>\n",
              "      <script>// Copyright 2017 Google LLC\n",
              "//\n",
              "// Licensed under the Apache License, Version 2.0 (the \"License\");\n",
              "// you may not use this file except in compliance with the License.\n",
              "// You may obtain a copy of the License at\n",
              "//\n",
              "//      http://www.apache.org/licenses/LICENSE-2.0\n",
              "//\n",
              "// Unless required by applicable law or agreed to in writing, software\n",
              "// distributed under the License is distributed on an \"AS IS\" BASIS,\n",
              "// WITHOUT WARRANTIES OR CONDITIONS OF ANY KIND, either express or implied.\n",
              "// See the License for the specific language governing permissions and\n",
              "// limitations under the License.\n",
              "\n",
              "/**\n",
              " * @fileoverview Helpers for google.colab Python module.\n",
              " */\n",
              "(function(scope) {\n",
              "function span(text, styleAttributes = {}) {\n",
              "  const element = document.createElement('span');\n",
              "  element.textContent = text;\n",
              "  for (const key of Object.keys(styleAttributes)) {\n",
              "    element.style[key] = styleAttributes[key];\n",
              "  }\n",
              "  return element;\n",
              "}\n",
              "\n",
              "// Max number of bytes which will be uploaded at a time.\n",
              "const MAX_PAYLOAD_SIZE = 100 * 1024;\n",
              "\n",
              "function _uploadFiles(inputId, outputId) {\n",
              "  const steps = uploadFilesStep(inputId, outputId);\n",
              "  const outputElement = document.getElementById(outputId);\n",
              "  // Cache steps on the outputElement to make it available for the next call\n",
              "  // to uploadFilesContinue from Python.\n",
              "  outputElement.steps = steps;\n",
              "\n",
              "  return _uploadFilesContinue(outputId);\n",
              "}\n",
              "\n",
              "// This is roughly an async generator (not supported in the browser yet),\n",
              "// where there are multiple asynchronous steps and the Python side is going\n",
              "// to poll for completion of each step.\n",
              "// This uses a Promise to block the python side on completion of each step,\n",
              "// then passes the result of the previous step as the input to the next step.\n",
              "function _uploadFilesContinue(outputId) {\n",
              "  const outputElement = document.getElementById(outputId);\n",
              "  const steps = outputElement.steps;\n",
              "\n",
              "  const next = steps.next(outputElement.lastPromiseValue);\n",
              "  return Promise.resolve(next.value.promise).then((value) => {\n",
              "    // Cache the last promise value to make it available to the next\n",
              "    // step of the generator.\n",
              "    outputElement.lastPromiseValue = value;\n",
              "    return next.value.response;\n",
              "  });\n",
              "}\n",
              "\n",
              "/**\n",
              " * Generator function which is called between each async step of the upload\n",
              " * process.\n",
              " * @param {string} inputId Element ID of the input file picker element.\n",
              " * @param {string} outputId Element ID of the output display.\n",
              " * @return {!Iterable<!Object>} Iterable of next steps.\n",
              " */\n",
              "function* uploadFilesStep(inputId, outputId) {\n",
              "  const inputElement = document.getElementById(inputId);\n",
              "  inputElement.disabled = false;\n",
              "\n",
              "  const outputElement = document.getElementById(outputId);\n",
              "  outputElement.innerHTML = '';\n",
              "\n",
              "  const pickedPromise = new Promise((resolve) => {\n",
              "    inputElement.addEventListener('change', (e) => {\n",
              "      resolve(e.target.files);\n",
              "    });\n",
              "  });\n",
              "\n",
              "  const cancel = document.createElement('button');\n",
              "  inputElement.parentElement.appendChild(cancel);\n",
              "  cancel.textContent = 'Cancel upload';\n",
              "  const cancelPromise = new Promise((resolve) => {\n",
              "    cancel.onclick = () => {\n",
              "      resolve(null);\n",
              "    };\n",
              "  });\n",
              "\n",
              "  // Wait for the user to pick the files.\n",
              "  const files = yield {\n",
              "    promise: Promise.race([pickedPromise, cancelPromise]),\n",
              "    response: {\n",
              "      action: 'starting',\n",
              "    }\n",
              "  };\n",
              "\n",
              "  cancel.remove();\n",
              "\n",
              "  // Disable the input element since further picks are not allowed.\n",
              "  inputElement.disabled = true;\n",
              "\n",
              "  if (!files) {\n",
              "    return {\n",
              "      response: {\n",
              "        action: 'complete',\n",
              "      }\n",
              "    };\n",
              "  }\n",
              "\n",
              "  for (const file of files) {\n",
              "    const li = document.createElement('li');\n",
              "    li.append(span(file.name, {fontWeight: 'bold'}));\n",
              "    li.append(span(\n",
              "        `(${file.type || 'n/a'}) - ${file.size} bytes, ` +\n",
              "        `last modified: ${\n",
              "            file.lastModifiedDate ? file.lastModifiedDate.toLocaleDateString() :\n",
              "                                    'n/a'} - `));\n",
              "    const percent = span('0% done');\n",
              "    li.appendChild(percent);\n",
              "\n",
              "    outputElement.appendChild(li);\n",
              "\n",
              "    const fileDataPromise = new Promise((resolve) => {\n",
              "      const reader = new FileReader();\n",
              "      reader.onload = (e) => {\n",
              "        resolve(e.target.result);\n",
              "      };\n",
              "      reader.readAsArrayBuffer(file);\n",
              "    });\n",
              "    // Wait for the data to be ready.\n",
              "    let fileData = yield {\n",
              "      promise: fileDataPromise,\n",
              "      response: {\n",
              "        action: 'continue',\n",
              "      }\n",
              "    };\n",
              "\n",
              "    // Use a chunked sending to avoid message size limits. See b/62115660.\n",
              "    let position = 0;\n",
              "    do {\n",
              "      const length = Math.min(fileData.byteLength - position, MAX_PAYLOAD_SIZE);\n",
              "      const chunk = new Uint8Array(fileData, position, length);\n",
              "      position += length;\n",
              "\n",
              "      const base64 = btoa(String.fromCharCode.apply(null, chunk));\n",
              "      yield {\n",
              "        response: {\n",
              "          action: 'append',\n",
              "          file: file.name,\n",
              "          data: base64,\n",
              "        },\n",
              "      };\n",
              "\n",
              "      let percentDone = fileData.byteLength === 0 ?\n",
              "          100 :\n",
              "          Math.round((position / fileData.byteLength) * 100);\n",
              "      percent.textContent = `${percentDone}% done`;\n",
              "\n",
              "    } while (position < fileData.byteLength);\n",
              "  }\n",
              "\n",
              "  // All done.\n",
              "  yield {\n",
              "    response: {\n",
              "      action: 'complete',\n",
              "    }\n",
              "  };\n",
              "}\n",
              "\n",
              "scope.google = scope.google || {};\n",
              "scope.google.colab = scope.google.colab || {};\n",
              "scope.google.colab._files = {\n",
              "  _uploadFiles,\n",
              "  _uploadFilesContinue,\n",
              "};\n",
              "})(self);\n",
              "</script> "
            ]
          },
          "metadata": {}
        },
        {
          "output_type": "stream",
          "name": "stdout",
          "text": [
            "Saving kaggle.json to kaggle.json\n"
          ]
        },
        {
          "output_type": "execute_result",
          "data": {
            "text/plain": [
              "{'kaggle.json': b'{\"username\":\"zefraalseif\",\"key\":\"5fccb85b3a64f22d31f5d4836bddf9e5\"}'}"
            ]
          },
          "metadata": {},
          "execution_count": 2
        }
      ]
    },
    {
      "cell_type": "markdown",
      "source": [
        "# Removing/Creating Directory for Kaggle Dataset"
      ],
      "metadata": {
        "id": "Oo2NRHXucDWy"
      }
    },
    {
      "cell_type": "code",
      "source": [
        "!rm -r ~/.kaggle/ \n",
        "!mkdir ~/.kaggle\n",
        "!cp kaggle.json ~/.kaggle/\n",
        "!chmod 600 ~/.kaggle/kaggle.json"
      ],
      "metadata": {
        "id": "zFOQ583pUYch",
        "colab": {
          "base_uri": "https://localhost:8080/"
        },
        "outputId": "26b43c86-c087-4d25-e992-9920c1012776"
      },
      "execution_count": null,
      "outputs": [
        {
          "output_type": "stream",
          "name": "stdout",
          "text": [
            "rm: cannot remove '/root/.kaggle/': No such file or directory\n"
          ]
        }
      ]
    },
    {
      "cell_type": "markdown",
      "source": [
        "# Importing Dataset"
      ],
      "metadata": {
        "id": "I08TCQiDcfFF"
      }
    },
    {
      "cell_type": "code",
      "source": [
        "!kaggle datasets download -d geomack/spotifyclassification\n",
        "!kaggle datasets download -d vatsalmavani/spotify-dataset"
      ],
      "metadata": {
        "colab": {
          "base_uri": "https://localhost:8080/"
        },
        "id": "68Yqm6wuclKy",
        "outputId": "30710835-2cd6-43ed-e210-a66bf334bf7d"
      },
      "execution_count": null,
      "outputs": [
        {
          "output_type": "stream",
          "name": "stdout",
          "text": [
            "Downloading spotifyclassification.zip to /content\n",
            "100% 98.4k/98.4k [00:00<00:00, 492kB/s]\n",
            "100% 98.4k/98.4k [00:00<00:00, 491kB/s]\n",
            "Downloading spotify-dataset.zip to /content\n",
            " 91% 15.0M/16.5M [00:01<00:00, 24.2MB/s]\n",
            "100% 16.5M/16.5M [00:01<00:00, 15.4MB/s]\n"
          ]
        }
      ]
    },
    {
      "cell_type": "markdown",
      "source": [
        "# Unzipping Dataset"
      ],
      "metadata": {
        "id": "dwTjzs2HdPdD"
      }
    },
    {
      "cell_type": "code",
      "source": [
        "!unzip -qq spotifyclassification.zip\n",
        "!unzip -qq spotify-dataset.zip"
      ],
      "metadata": {
        "id": "PM7uXNfYdSdB"
      },
      "execution_count": null,
      "outputs": []
    },
    {
      "cell_type": "markdown",
      "source": [
        "# Data Splits"
      ],
      "metadata": {
        "id": "TRCp1zsZdqXa"
      }
    },
    {
      "cell_type": "code",
      "source": [
        "# Specify the data (remove time_signature & reorder the data)\n",
        "data = pd.read_csv(\"data.csv\")\n",
        "data.drop('time_signature',inplace =True, axis =1)\n",
        "data.head()\n",
        "X1 = data.iloc[:,1:13]\n",
        "y = np.ravel(data.target)\n",
        "\n",
        "\n",
        "#Splitting the data set for training and validating - Done with SKLEARN\n",
        "X_train, X_tst, y_train, y_tst = train_test_split(X1,y, test_size = 0.25, random_state = 45)\n",
        "# Defining numpy arrays for the Train and Validation \n",
        "X_train = X_train.to_numpy()\n",
        "# X_valid = X_valid.to_numpy()\n",
        "\n",
        "# X_val = X_valid[:300]\n",
        "# X_tst = X_valid[300:]\n",
        "\n",
        "# y_val = y_valid[:300]\n",
        "# y_tst = y_valid[300:]"
      ],
      "metadata": {
        "id": "lNcOEbNQdsTx"
      },
      "execution_count": null,
      "outputs": []
    },
    {
      "cell_type": "markdown",
      "source": [
        "# Normalizing Test"
      ],
      "metadata": {
        "id": "BkpdqL9wi-XB"
      }
    },
    {
      "cell_type": "code",
      "source": [
        "import copy\n",
        "Xtrain_N = copy.copy(X_train)\n",
        "Xtst_N = copy.copy(X_tst)\n",
        "mean = Xtrain_N.mean(axis=0)\n",
        "std = Xtrain_N.std(axis=0)\n",
        "Xtrain_N -= mean\n",
        "Xtrain_N /= std\n",
        "Xtst_N -=mean \n",
        "Xtst_N /=std"
      ],
      "metadata": {
        "id": "uNTjA1tMjQyE"
      },
      "execution_count": null,
      "outputs": []
    },
    {
      "cell_type": "markdown",
      "source": [
        "# MLPClassifier"
      ],
      "metadata": {
        "id": "4I1S8O880B6L"
      }
    },
    {
      "cell_type": "code",
      "source": [
        "parameters = {'activation':('relu','none'),'solver':('lbfgs','sgd','adam'),'learning_rate':('constant','invscaling','adaptive')}\n",
        "clf = MLPClassifier(hidden_layer_sizes= (200,150,100,50,25))\n",
        "grid_MLP = GridSearchCV(clf,parameters)\n",
        "optimal_MLP = grid_MLP.fit(Xtrain_N,y_train)\n",
        "optimal_MLP.score(Xtst_N,y_tst)\n",
        "print(classification_report(y_tst, optimal_MLP.predict(Xtst_N)))\n",
        "plot_confusion_matrix(optimal_MLP, Xtst_N, y_tst)  \n",
        "plt.show()"
      ],
      "metadata": {
        "id": "cJmdACZNpD3t",
        "colab": {
          "base_uri": "https://localhost:8080/",
          "height": 1000
        },
        "outputId": "59d96247-bec5-46e8-ff26-073ba6e3eee1"
      },
      "execution_count": null,
      "outputs": [
        {
          "output_type": "stream",
          "name": "stderr",
          "text": [
            "/usr/local/lib/python3.8/dist-packages/sklearn/neural_network/_multilayer_perceptron.py:692: ConvergenceWarning: Stochastic Optimizer: Maximum iterations (200) reached and the optimization hasn't converged yet.\n",
            "  warnings.warn(\n",
            "/usr/local/lib/python3.8/dist-packages/sklearn/neural_network/_multilayer_perceptron.py:692: ConvergenceWarning: Stochastic Optimizer: Maximum iterations (200) reached and the optimization hasn't converged yet.\n",
            "  warnings.warn(\n",
            "/usr/local/lib/python3.8/dist-packages/sklearn/neural_network/_multilayer_perceptron.py:692: ConvergenceWarning: Stochastic Optimizer: Maximum iterations (200) reached and the optimization hasn't converged yet.\n",
            "  warnings.warn(\n",
            "/usr/local/lib/python3.8/dist-packages/sklearn/neural_network/_multilayer_perceptron.py:692: ConvergenceWarning: Stochastic Optimizer: Maximum iterations (200) reached and the optimization hasn't converged yet.\n",
            "  warnings.warn(\n",
            "/usr/local/lib/python3.8/dist-packages/sklearn/neural_network/_multilayer_perceptron.py:692: ConvergenceWarning: Stochastic Optimizer: Maximum iterations (200) reached and the optimization hasn't converged yet.\n",
            "  warnings.warn(\n",
            "/usr/local/lib/python3.8/dist-packages/sklearn/neural_network/_multilayer_perceptron.py:692: ConvergenceWarning: Stochastic Optimizer: Maximum iterations (200) reached and the optimization hasn't converged yet.\n",
            "  warnings.warn(\n",
            "/usr/local/lib/python3.8/dist-packages/sklearn/neural_network/_multilayer_perceptron.py:692: ConvergenceWarning: Stochastic Optimizer: Maximum iterations (200) reached and the optimization hasn't converged yet.\n",
            "  warnings.warn(\n",
            "/usr/local/lib/python3.8/dist-packages/sklearn/neural_network/_multilayer_perceptron.py:692: ConvergenceWarning: Stochastic Optimizer: Maximum iterations (200) reached and the optimization hasn't converged yet.\n",
            "  warnings.warn(\n",
            "/usr/local/lib/python3.8/dist-packages/sklearn/neural_network/_multilayer_perceptron.py:692: ConvergenceWarning: Stochastic Optimizer: Maximum iterations (200) reached and the optimization hasn't converged yet.\n",
            "  warnings.warn(\n",
            "/usr/local/lib/python3.8/dist-packages/sklearn/neural_network/_multilayer_perceptron.py:692: ConvergenceWarning: Stochastic Optimizer: Maximum iterations (200) reached and the optimization hasn't converged yet.\n",
            "  warnings.warn(\n",
            "/usr/local/lib/python3.8/dist-packages/sklearn/model_selection/_validation.py:372: FitFailedWarning: \n",
            "45 fits failed out of a total of 90.\n",
            "The score on these train-test partitions for these parameters will be set to nan.\n",
            "If these failures are not expected, you can try to debug them by setting error_score='raise'.\n",
            "\n",
            "Below are more details about the failures:\n",
            "--------------------------------------------------------------------------------\n",
            "45 fits failed with the following error:\n",
            "Traceback (most recent call last):\n",
            "  File \"/usr/local/lib/python3.8/dist-packages/sklearn/model_selection/_validation.py\", line 680, in _fit_and_score\n",
            "    estimator.fit(X_train, y_train, **fit_params)\n",
            "  File \"/usr/local/lib/python3.8/dist-packages/sklearn/neural_network/_multilayer_perceptron.py\", line 752, in fit\n",
            "    return self._fit(X, y, incremental=False)\n",
            "  File \"/usr/local/lib/python3.8/dist-packages/sklearn/neural_network/_multilayer_perceptron.py\", line 384, in _fit\n",
            "    self._validate_hyperparameters()\n",
            "  File \"/usr/local/lib/python3.8/dist-packages/sklearn/neural_network/_multilayer_perceptron.py\", line 493, in _validate_hyperparameters\n",
            "    raise ValueError(\n",
            "ValueError: The activation 'none' is not supported. Supported activations are ['identity', 'logistic', 'relu', 'softmax', 'tanh'].\n",
            "\n",
            "  warnings.warn(some_fits_failed_message, FitFailedWarning)\n",
            "/usr/local/lib/python3.8/dist-packages/sklearn/model_selection/_search.py:969: UserWarning: One or more of the test scores are non-finite: [0.69645706 0.71032282 0.70109938 0.6984307  0.49933993 0.69581448\n",
            " 0.70968461 0.71165169 0.70901362        nan        nan        nan\n",
            "        nan        nan        nan        nan        nan        nan]\n",
            "  warnings.warn(\n"
          ]
        },
        {
          "output_type": "stream",
          "name": "stdout",
          "text": [
            "              precision    recall  f1-score   support\n",
            "\n",
            "           0       0.68      0.81      0.74       242\n",
            "           1       0.78      0.65      0.71       263\n",
            "\n",
            "    accuracy                           0.72       505\n",
            "   macro avg       0.73      0.73      0.72       505\n",
            "weighted avg       0.73      0.72      0.72       505\n",
            "\n"
          ]
        },
        {
          "output_type": "stream",
          "name": "stderr",
          "text": [
            "/usr/local/lib/python3.8/dist-packages/sklearn/neural_network/_multilayer_perceptron.py:692: ConvergenceWarning: Stochastic Optimizer: Maximum iterations (200) reached and the optimization hasn't converged yet.\n",
            "  warnings.warn(\n",
            "/usr/local/lib/python3.8/dist-packages/sklearn/base.py:443: UserWarning: X has feature names, but MLPClassifier was fitted without feature names\n",
            "  warnings.warn(\n",
            "/usr/local/lib/python3.8/dist-packages/sklearn/base.py:443: UserWarning: X has feature names, but MLPClassifier was fitted without feature names\n",
            "  warnings.warn(\n",
            "/usr/local/lib/python3.8/dist-packages/sklearn/utils/deprecation.py:87: FutureWarning: Function plot_confusion_matrix is deprecated; Function `plot_confusion_matrix` is deprecated in 1.0 and will be removed in 1.2. Use one of the class methods: ConfusionMatrixDisplay.from_predictions or ConfusionMatrixDisplay.from_estimator.\n",
            "  warnings.warn(msg, category=FutureWarning)\n",
            "/usr/local/lib/python3.8/dist-packages/sklearn/base.py:443: UserWarning: X has feature names, but MLPClassifier was fitted without feature names\n",
            "  warnings.warn(\n"
          ]
        },
        {
          "output_type": "display_data",
          "data": {
            "text/plain": [
              "<Figure size 432x288 with 2 Axes>"
            ],
            "image/png": "[encoded data removed]"
          },
          "metadata": {
            "needs_background": "light"
          }
        }
      ]
    },
    {
      "cell_type": "code",
      "source": [
        "from sklearn.neural_network import MLPClassifier\n",
        "clf = MLPClassifier(solver ='adam',hidden_layer_sizes= (200,150,100,50,25))\n",
        "clf.fit(Xtrain_N,y_train)\n",
        "clf.score(Xtst_N,y_tst)\n",
        "print(classification_report(y_tst, clf.predict(Xtst_N)))"
      ],
      "metadata": {
        "colab": {
          "base_uri": "https://localhost:8080/"
        },
        "id": "nx_n62js0EeJ",
        "outputId": "f9830fda-bce7-4879-cffb-a0e56a609150"
      },
      "execution_count": null,
      "outputs": [
        {
          "output_type": "stream",
          "name": "stdout",
          "text": [
            "              precision    recall  f1-score   support\n",
            "\n",
            "           0       0.71      0.76      0.73       242\n",
            "           1       0.76      0.71      0.74       263\n",
            "\n",
            "    accuracy                           0.73       505\n",
            "   macro avg       0.74      0.74      0.73       505\n",
            "weighted avg       0.74      0.73      0.73       505\n",
            "\n"
          ]
        },
        {
          "output_type": "stream",
          "name": "stderr",
          "text": [
            "/usr/local/lib/python3.8/dist-packages/sklearn/base.py:443: UserWarning: X has feature names, but MLPClassifier was fitted without feature names\n",
            "  warnings.warn(\n",
            "/usr/local/lib/python3.8/dist-packages/sklearn/base.py:443: UserWarning: X has feature names, but MLPClassifier was fitted without feature names\n",
            "  warnings.warn(\n"
          ]
        }
      ]
    },
    {
      "cell_type": "markdown",
      "source": [
        "## MLP Classifier Confusion Matrix"
      ],
      "metadata": {
        "id": "FHOE9y11JSmQ"
      }
    },
    {
      "cell_type": "code",
      "source": [
        "plot_confusion_matrix(clf, Xtst_N, y_tst)  \n",
        "plt.show()"
      ],
      "metadata": {
        "colab": {
          "base_uri": "https://localhost:8080/"
        },
        "id": "s_2DM7MlJarZ",
        "outputId": "bb990491-2ba5-4ee3-a921-30278a2e448e"
      },
      "execution_count": null,
      "outputs": [
        {
          "output_type": "stream",
          "name": "stderr",
          "text": [
            "/usr/local/lib/python3.8/dist-packages/sklearn/utils/deprecation.py:87: FutureWarning: Function plot_confusion_matrix is deprecated; Function `plot_confusion_matrix` is deprecated in 1.0 and will be removed in 1.2. Use one of the class methods: ConfusionMatrixDisplay.from_predictions or ConfusionMatrixDisplay.from_estimator.\n",
            "  warnings.warn(msg, category=FutureWarning)\n",
            "/usr/local/lib/python3.8/dist-packages/sklearn/base.py:443: UserWarning: X has feature names, but MLPClassifier was fitted without feature names\n",
            "  warnings.warn(\n"
          ]
        },
        {
          "output_type": "display_data",
          "data": {
            "text/plain": [
              "<Figure size 432x288 with 2 Axes>"
            ],
            "image/png": "[encoded data removed]"
          },
          "metadata": {
            "needs_background": "light"
          }
        }
      ]
    },
    {
      "cell_type": "markdown",
      "source": [
        "# Gaussian Naive Bayes Classifier"
      ],
      "metadata": {
        "id": "XvNiLf_u_EV1"
      }
    },
    {
      "cell_type": "code",
      "source": [
        "# training the model on training set\n",
        "from sklearn.naive_bayes import GaussianNB\n",
        "gnb = GaussianNB()\n",
        "gnb.fit(Xtrain_N, y_train)\n",
        "  \n",
        "# making predictions on the testing set\n",
        "y_pred = gnb.predict(Xtst_N)\n",
        "  \n",
        "# comparing actual response values (y_test) with predicted response values (y_pred)\n",
        "from sklearn import metrics\n",
        "print(\"Gaussian Naive Bayes model accuracy(in %):\", metrics.accuracy_score(y_tst, y_pred)*100)"
      ],
      "metadata": {
        "id": "G2ZxOOy7_I6O",
        "colab": {
          "base_uri": "https://localhost:8080/"
        },
        "outputId": "53ade2ff-720f-429d-87d8-87c509b196cd"
      },
      "execution_count": null,
      "outputs": [
        {
          "output_type": "stream",
          "name": "stdout",
          "text": [
            "Gaussian Naive Bayes model accuracy(in %): 67.12871287128714\n"
          ]
        },
        {
          "output_type": "stream",
          "name": "stderr",
          "text": [
            "/usr/local/lib/python3.8/dist-packages/sklearn/base.py:443: UserWarning: X has feature names, but GaussianNB was fitted without feature names\n",
            "  warnings.warn(\n"
          ]
        }
      ]
    },
    {
      "cell_type": "markdown",
      "source": [
        "# KNN Classifier"
      ],
      "metadata": {
        "id": "CY_dknlqetai"
      }
    },
    {
      "cell_type": "code",
      "source": [
        "parameters = {'n_neighbors':[x for x in range(1,100)], 'weights':('uniform','distance'),'algorithm':('auto','ball_tree','kd_tree','brute'), 'p':[1,2]}\n",
        "knn = KNeighborsClassifier()\n",
        "grid_knn = GridSearchCV(knn, parameters)\n",
        "optimal_knn = grid_knn.fit(Xtrain_N,y_train)"
      ],
      "metadata": {
        "id": "AqzG00-5gv0L"
      },
      "execution_count": null,
      "outputs": []
    },
    {
      "cell_type": "code",
      "source": [
        "optimal_knn.score(Xtst_N,y_tst)"
      ],
      "metadata": {
        "id": "GMtmBmqyi-Rv",
        "colab": {
          "base_uri": "https://localhost:8080/"
        },
        "outputId": "2ad622a0-d457-4b8f-f341-79089160efe0"
      },
      "execution_count": null,
      "outputs": [
        {
          "output_type": "stream",
          "name": "stderr",
          "text": [
            "/usr/local/lib/python3.8/dist-packages/sklearn/base.py:443: UserWarning: X has feature names, but KNeighborsClassifier was fitted without feature names\n",
            "  warnings.warn(\n"
          ]
        },
        {
          "output_type": "execute_result",
          "data": {
            "text/plain": [
              "0.7069306930693069"
            ]
          },
          "metadata": {},
          "execution_count": 13
        }
      ]
    },
    {
      "cell_type": "markdown",
      "source": [
        "Classification Report KNN Classifier"
      ],
      "metadata": {
        "id": "gZgFXzlWjIYl"
      }
    },
    {
      "cell_type": "code",
      "source": [
        "print(classification_report(y_tst, optimal_knn.predict(Xtst_N)))"
      ],
      "metadata": {
        "id": "td7XGF6zjQl_",
        "colab": {
          "base_uri": "https://localhost:8080/"
        },
        "outputId": "f13e0528-f669-4c95-8361-4d5d68df88f8"
      },
      "execution_count": null,
      "outputs": [
        {
          "output_type": "stream",
          "name": "stdout",
          "text": [
            "              precision    recall  f1-score   support\n",
            "\n",
            "           0       0.65      0.83      0.73       242\n",
            "           1       0.79      0.59      0.68       263\n",
            "\n",
            "    accuracy                           0.71       505\n",
            "   macro avg       0.72      0.71      0.70       505\n",
            "weighted avg       0.73      0.71      0.70       505\n",
            "\n"
          ]
        },
        {
          "output_type": "stream",
          "name": "stderr",
          "text": [
            "/usr/local/lib/python3.8/dist-packages/sklearn/base.py:443: UserWarning: X has feature names, but KNeighborsClassifier was fitted without feature names\n",
            "  warnings.warn(\n"
          ]
        }
      ]
    },
    {
      "cell_type": "markdown",
      "source": [
        "## KNN Classifier Confusion Matrix"
      ],
      "metadata": {
        "id": "79SN1fGliBkW"
      }
    },
    {
      "cell_type": "code",
      "source": [
        "plot_confusion_matrix(optimal_knn, Xtst_N, y_tst)  \n",
        "plt.show()"
      ],
      "metadata": {
        "id": "7Lj1M2uHicZz",
        "colab": {
          "base_uri": "https://localhost:8080/",
          "height": 370
        },
        "outputId": "3fce7429-f62d-423c-866c-930c72a383cb"
      },
      "execution_count": null,
      "outputs": [
        {
          "output_type": "stream",
          "name": "stderr",
          "text": [
            "/usr/local/lib/python3.8/dist-packages/sklearn/utils/deprecation.py:87: FutureWarning: Function plot_confusion_matrix is deprecated; Function `plot_confusion_matrix` is deprecated in 1.0 and will be removed in 1.2. Use one of the class methods: ConfusionMatrixDisplay.from_predictions or ConfusionMatrixDisplay.from_estimator.\n",
            "  warnings.warn(msg, category=FutureWarning)\n",
            "/usr/local/lib/python3.8/dist-packages/sklearn/base.py:443: UserWarning: X has feature names, but KNeighborsClassifier was fitted without feature names\n",
            "  warnings.warn(\n"
          ]
        },
        {
          "output_type": "display_data",
          "data": {
            "text/plain": [
              "<Figure size 432x288 with 2 Axes>"
            ],
            "image/png": "[encoded data removed]"
          },
          "metadata": {
            "needs_background": "light"
          }
        }
      ]
    },
    {
      "cell_type": "markdown",
      "source": [
        "# Decision Tree Classifier"
      ],
      "metadata": {
        "id": "Sv1sD8S5aYlC"
      }
    },
    {
      "cell_type": "code",
      "source": [
        "parameters_tree = {'criterion':('gini','entropy','log_loss'), 'splitter':('best','random')}\n",
        "decision_tree = DecisionTreeClassifier()\n",
        "grid_tree = GridSearchCV(decision_tree,parameters_tree)\n",
        "optimal_tree = grid_tree.fit(Xtrain_N,y_train)"
      ],
      "metadata": {
        "id": "nuThF_0padyj",
        "colab": {
          "base_uri": "https://localhost:8080/"
        },
        "outputId": "fe8d1632-4d80-4aa2-bc58-888dff2b4671"
      },
      "execution_count": null,
      "outputs": [
        {
          "output_type": "stream",
          "name": "stderr",
          "text": [
            "/usr/local/lib/python3.8/dist-packages/sklearn/model_selection/_validation.py:372: FitFailedWarning: \n",
            "10 fits failed out of a total of 30.\n",
            "The score on these train-test partitions for these parameters will be set to nan.\n",
            "If these failures are not expected, you can try to debug them by setting error_score='raise'.\n",
            "\n",
            "Below are more details about the failures:\n",
            "--------------------------------------------------------------------------------\n",
            "10 fits failed with the following error:\n",
            "Traceback (most recent call last):\n",
            "  File \"/usr/local/lib/python3.8/dist-packages/sklearn/model_selection/_validation.py\", line 680, in _fit_and_score\n",
            "    estimator.fit(X_train, y_train, **fit_params)\n",
            "  File \"/usr/local/lib/python3.8/dist-packages/sklearn/tree/_classes.py\", line 937, in fit\n",
            "    super().fit(\n",
            "  File \"/usr/local/lib/python3.8/dist-packages/sklearn/tree/_classes.py\", line 352, in fit\n",
            "    criterion = CRITERIA_CLF[self.criterion](\n",
            "KeyError: 'log_loss'\n",
            "\n",
            "  warnings.warn(some_fits_failed_message, FitFailedWarning)\n",
            "/usr/local/lib/python3.8/dist-packages/sklearn/model_selection/_search.py:969: UserWarning: One or more of the test scores are non-finite: [0.68195965 0.648187   0.68258038 0.6441829         nan        nan]\n",
            "  warnings.warn(\n"
          ]
        }
      ]
    },
    {
      "cell_type": "code",
      "source": [
        "optimal_tree.score(Xtst_N,y_tst)"
      ],
      "metadata": {
        "id": "QWhPTXISb1Oq",
        "colab": {
          "base_uri": "https://localhost:8080/"
        },
        "outputId": "db2782d7-e8a0-495f-a899-895de7f46097"
      },
      "execution_count": null,
      "outputs": [
        {
          "output_type": "stream",
          "name": "stderr",
          "text": [
            "/usr/local/lib/python3.8/dist-packages/sklearn/base.py:443: UserWarning: X has feature names, but DecisionTreeClassifier was fitted without feature names\n",
            "  warnings.warn(\n"
          ]
        },
        {
          "output_type": "execute_result",
          "data": {
            "text/plain": [
              "0.7247524752475247"
            ]
          },
          "metadata": {},
          "execution_count": 17
        }
      ]
    },
    {
      "cell_type": "markdown",
      "source": [
        "Classification Report Decision Tree Classifier"
      ],
      "metadata": {
        "id": "nMKvL7WSjAo1"
      }
    },
    {
      "cell_type": "code",
      "source": [
        "print(classification_report(y_tst, optimal_tree.predict(Xtst_N)))"
      ],
      "metadata": {
        "id": "SZ6tKUSljEG-",
        "colab": {
          "base_uri": "https://localhost:8080/"
        },
        "outputId": "97c638af-ee66-4245-fa20-34268dca39aa"
      },
      "execution_count": null,
      "outputs": [
        {
          "output_type": "stream",
          "name": "stdout",
          "text": [
            "              precision    recall  f1-score   support\n",
            "\n",
            "           0       0.72      0.71      0.71       242\n",
            "           1       0.73      0.74      0.74       263\n",
            "\n",
            "    accuracy                           0.72       505\n",
            "   macro avg       0.72      0.72      0.72       505\n",
            "weighted avg       0.72      0.72      0.72       505\n",
            "\n"
          ]
        },
        {
          "output_type": "stream",
          "name": "stderr",
          "text": [
            "/usr/local/lib/python3.8/dist-packages/sklearn/base.py:443: UserWarning: X has feature names, but DecisionTreeClassifier was fitted without feature names\n",
            "  warnings.warn(\n"
          ]
        }
      ]
    },
    {
      "cell_type": "markdown",
      "source": [
        "## Decision Tree Confusion Matrix"
      ],
      "metadata": {
        "id": "UQ2W1DF_iQ9U"
      }
    },
    {
      "cell_type": "code",
      "source": [
        "plot_confusion_matrix(optimal_tree, Xtst_N, y_tst)  \n",
        "plt.show()"
      ],
      "metadata": {
        "id": "WWo7qd_5io8X",
        "colab": {
          "base_uri": "https://localhost:8080/",
          "height": 368
        },
        "outputId": "46808188-36a5-47df-923f-33c0fb841d59"
      },
      "execution_count": null,
      "outputs": [
        {
          "output_type": "stream",
          "name": "stderr",
          "text": [
            "/usr/local/lib/python3.8/dist-packages/sklearn/utils/deprecation.py:87: FutureWarning: Function plot_confusion_matrix is deprecated; Function `plot_confusion_matrix` is deprecated in 1.0 and will be removed in 1.2. Use one of the class methods: ConfusionMatrixDisplay.from_predictions or ConfusionMatrixDisplay.from_estimator.\n",
            "  warnings.warn(msg, category=FutureWarning)\n",
            "/usr/local/lib/python3.8/dist-packages/sklearn/base.py:443: UserWarning: X has feature names, but DecisionTreeClassifier was fitted without feature names\n",
            "  warnings.warn(\n"
          ]
        },
        {
          "output_type": "display_data",
          "data": {
            "text/plain": [
              "<Figure size 432x288 with 2 Axes>"
            ],
            "image/png": "[encoded data removed]"
          },
          "metadata": {
            "needs_background": "light"
          }
        }
      ]
    },
    {
      "cell_type": "markdown",
      "source": [
        "# SVM Classifier"
      ],
      "metadata": {
        "id": "77OVC8zBaeGS"
      }
    },
    {
      "cell_type": "code",
      "source": [
        "parameters_svc = {'kernel':('linear', 'poly', 'rbf', 'sigmoid'), 'gamma':('scale','auto'), 'shrinking':(True,False),'C':[x for x in range(1,5)]}\n",
        "support_vector = SVC()\n",
        "grid_svc = GridSearchCV(support_vector,parameters_svc)\n",
        "optimal_svc = grid_svc.fit(Xtrain_N,y_train)"
      ],
      "metadata": {
        "id": "9fgnq7L2cYXI"
      },
      "execution_count": null,
      "outputs": []
    },
    {
      "cell_type": "code",
      "source": [
        "optimal_svc.score(Xtst_N,y_tst)"
      ],
      "metadata": {
        "id": "W2smkwYtcYNE",
        "colab": {
          "base_uri": "https://localhost:8080/"
        },
        "outputId": "62cc26ba-59c8-439a-d250-6818659ec731"
      },
      "execution_count": null,
      "outputs": [
        {
          "output_type": "stream",
          "name": "stderr",
          "text": [
            "/usr/local/lib/python3.8/dist-packages/sklearn/base.py:443: UserWarning: X has feature names, but SVC was fitted without feature names\n",
            "  warnings.warn(\n"
          ]
        },
        {
          "output_type": "execute_result",
          "data": {
            "text/plain": [
              "0.7504950495049505"
            ]
          },
          "metadata": {},
          "execution_count": 21
        }
      ]
    },
    {
      "cell_type": "markdown",
      "source": [
        "Classification Report SVM Classifier"
      ],
      "metadata": {
        "id": "cYa-9EjSjNaz"
      }
    },
    {
      "cell_type": "code",
      "source": [
        "print(classification_report(y_tst, optimal_svc.predict(Xtst_N)))"
      ],
      "metadata": {
        "id": "iLPQYpTfjPi2",
        "colab": {
          "base_uri": "https://localhost:8080/"
        },
        "outputId": "1a332e33-1dfa-4983-b40b-66122413f0c0"
      },
      "execution_count": null,
      "outputs": [
        {
          "output_type": "stream",
          "name": "stdout",
          "text": [
            "              precision    recall  f1-score   support\n",
            "\n",
            "           0       0.70      0.83      0.76       242\n",
            "           1       0.81      0.68      0.74       263\n",
            "\n",
            "    accuracy                           0.75       505\n",
            "   macro avg       0.76      0.75      0.75       505\n",
            "weighted avg       0.76      0.75      0.75       505\n",
            "\n"
          ]
        },
        {
          "output_type": "stream",
          "name": "stderr",
          "text": [
            "/usr/local/lib/python3.8/dist-packages/sklearn/base.py:443: UserWarning: X has feature names, but SVC was fitted without feature names\n",
            "  warnings.warn(\n"
          ]
        }
      ]
    },
    {
      "cell_type": "markdown",
      "source": [
        "## Support Vector Machine Confusion Matrix"
      ],
      "metadata": {
        "id": "ModpXIFfiSv2"
      }
    },
    {
      "cell_type": "code",
      "source": [
        "plot_confusion_matrix(optimal_svc, Xtst_N, y_tst)  \n",
        "plt.show()"
      ],
      "metadata": {
        "id": "Ekw8Fm8vipUj",
        "colab": {
          "base_uri": "https://localhost:8080/",
          "height": 372
        },
        "outputId": "7613e9a9-1157-4ad1-bcb8-cd9f8b499b32"
      },
      "execution_count": null,
      "outputs": [
        {
          "output_type": "stream",
          "name": "stderr",
          "text": [
            "/usr/local/lib/python3.8/dist-packages/sklearn/utils/deprecation.py:87: FutureWarning: Function plot_confusion_matrix is deprecated; Function `plot_confusion_matrix` is deprecated in 1.0 and will be removed in 1.2. Use one of the class methods: ConfusionMatrixDisplay.from_predictions or ConfusionMatrixDisplay.from_estimator.\n",
            "  warnings.warn(msg, category=FutureWarning)\n",
            "/usr/local/lib/python3.8/dist-packages/sklearn/base.py:443: UserWarning: X has feature names, but SVC was fitted without feature names\n",
            "  warnings.warn(\n"
          ]
        },
        {
          "output_type": "display_data",
          "data": {
            "text/plain": [
              "<Figure size 432x288 with 2 Axes>"
            ],
            "image/png": "[encoded data removed]"
          },
          "metadata": {
            "needs_background": "light"
          }
        }
      ]
    },
    {
      "cell_type": "markdown",
      "source": [
        "# Random Forest Classifier"
      ],
      "metadata": {
        "id": "NtXuwtfacYoQ"
      }
    },
    {
      "cell_type": "code",
      "source": [
        "parameters_randomf = {'criterion':('gini','entropy','log_loss'), \n",
        "                      'n_estimators':[x for x in range(1,50)]}\n",
        "random_forest = RandomForestClassifier()\n",
        "grid_randomf = GridSearchCV(random_forest,parameters_randomf)\n",
        "optimal_randomf = grid_randomf.fit(Xtrain_N,y_train)\n",
        "optimal_randomf.score(Xtst_N,y_tst)"
      ],
      "metadata": {
        "id": "I8K-WzNhchWd",
        "colab": {
          "base_uri": "https://localhost:8080/"
        },
        "outputId": "867c59ae-39c1-4a36-9299-e689fdf3f317"
      },
      "execution_count": null,
      "outputs": [
        {
          "output_type": "stream",
          "name": "stderr",
          "text": [
            "/usr/local/lib/python3.8/dist-packages/sklearn/model_selection/_validation.py:372: FitFailedWarning: \n",
            "245 fits failed out of a total of 735.\n",
            "The score on these train-test partitions for these parameters will be set to nan.\n",
            "If these failures are not expected, you can try to debug them by setting error_score='raise'.\n",
            "\n",
            "Below are more details about the failures:\n",
            "--------------------------------------------------------------------------------\n",
            "245 fits failed with the following error:\n",
            "Traceback (most recent call last):\n",
            "  File \"/usr/local/lib/python3.8/dist-packages/sklearn/model_selection/_validation.py\", line 680, in _fit_and_score\n",
            "    estimator.fit(X_train, y_train, **fit_params)\n",
            "  File \"/usr/local/lib/python3.8/dist-packages/sklearn/ensemble/_forest.py\", line 450, in fit\n",
            "    trees = Parallel(\n",
            "  File \"/usr/local/lib/python3.8/dist-packages/joblib/parallel.py\", line 1085, in __call__\n",
            "    if self.dispatch_one_batch(iterator):\n",
            "  File \"/usr/local/lib/python3.8/dist-packages/joblib/parallel.py\", line 901, in dispatch_one_batch\n",
            "    self._dispatch(tasks)\n",
            "  File \"/usr/local/lib/python3.8/dist-packages/joblib/parallel.py\", line 819, in _dispatch\n",
            "    job = self._backend.apply_async(batch, callback=cb)\n",
            "  File \"/usr/local/lib/python3.8/dist-packages/joblib/_parallel_backends.py\", line 208, in apply_async\n",
            "    result = ImmediateResult(func)\n",
            "  File \"/usr/local/lib/python3.8/dist-packages/joblib/_parallel_backends.py\", line 597, in __init__\n",
            "    self.results = batch()\n",
            "  File \"/usr/local/lib/python3.8/dist-packages/joblib/parallel.py\", line 288, in __call__\n",
            "    return [func(*args, **kwargs)\n",
            "  File \"/usr/local/lib/python3.8/dist-packages/joblib/parallel.py\", line 288, in <listcomp>\n",
            "    return [func(*args, **kwargs)\n",
            "  File \"/usr/local/lib/python3.8/dist-packages/sklearn/utils/fixes.py\", line 216, in __call__\n",
            "    return self.function(*args, **kwargs)\n",
            "  File \"/usr/local/lib/python3.8/dist-packages/sklearn/ensemble/_forest.py\", line 185, in _parallel_build_trees\n",
            "    tree.fit(X, y, sample_weight=curr_sample_weight, check_input=False)\n",
            "  File \"/usr/local/lib/python3.8/dist-packages/sklearn/tree/_classes.py\", line 937, in fit\n",
            "    super().fit(\n",
            "  File \"/usr/local/lib/python3.8/dist-packages/sklearn/tree/_classes.py\", line 352, in fit\n",
            "    criterion = CRITERIA_CLF[self.criterion](\n",
            "KeyError: 'log_loss'\n",
            "\n",
            "  warnings.warn(some_fits_failed_message, FitFailedWarning)\n",
            "/usr/local/lib/python3.8/dist-packages/sklearn/model_selection/_search.py:969: UserWarning: One or more of the test scores are non-finite: [0.63692435 0.64289336 0.67728018 0.69647018 0.69644613 0.7129915\n",
            " 0.71430944 0.72488799 0.72423885 0.72358315 0.72952812 0.74473586\n",
            " 0.75267196 0.75202938 0.74141586 0.73879308 0.74276004 0.73086136\n",
            " 0.75003825 0.74011103 0.75004043 0.75201626 0.74938693 0.7493607\n",
            " 0.74078858 0.74936288 0.74209123 0.74871375 0.74541123 0.75533626\n",
            " 0.75927917 0.74938037 0.75136057 0.74740017 0.7513409  0.75200752\n",
            " 0.75465215 0.76126593 0.75333639 0.75135838 0.75533408 0.75598103\n",
            " 0.75598977 0.75069831 0.77449348 0.76193255 0.75135838 0.75862785\n",
            " 0.7606299  0.65674163 0.6448364  0.68522938 0.68718117 0.71167137\n",
            " 0.7037462  0.73348196 0.7229362  0.72423229 0.73218805 0.73017944\n",
            " 0.73216838 0.74740673 0.73085699 0.75796997 0.74210434 0.73614408\n",
            " 0.74804712 0.7593054  0.75202063 0.75798527 0.76856162 0.7440911\n",
            " 0.76060149 0.75134527 0.74608222 0.75002951 0.749376   0.74076891\n",
            " 0.75069394 0.75004043 0.74869626 0.75201845 0.7579656  0.76524162\n",
            " 0.74738706 0.76127904 0.76789063 0.74738706 0.76127686 0.76127686\n",
            " 0.75335169 0.74342229 0.75268288 0.75730335 0.75266977 0.75068739\n",
            " 0.75863004 0.74871812        nan        nan        nan        nan\n",
            "        nan        nan        nan        nan        nan        nan\n",
            "        nan        nan        nan        nan        nan        nan\n",
            "        nan        nan        nan        nan        nan        nan\n",
            "        nan        nan        nan        nan        nan        nan\n",
            "        nan        nan        nan        nan        nan        nan\n",
            "        nan        nan        nan        nan        nan        nan\n",
            "        nan        nan        nan        nan        nan        nan\n",
            "        nan        nan        nan]\n",
            "  warnings.warn(\n",
            "/usr/local/lib/python3.8/dist-packages/sklearn/base.py:443: UserWarning: X has feature names, but RandomForestClassifier was fitted without feature names\n",
            "  warnings.warn(\n"
          ]
        },
        {
          "output_type": "execute_result",
          "data": {
            "text/plain": [
              "0.8158415841584158"
            ]
          },
          "metadata": {},
          "execution_count": 24
        }
      ]
    },
    {
      "cell_type": "code",
      "source": [
        "optimal_randomf.score(Xtst_N,y_tst)"
      ],
      "metadata": {
        "id": "nVYuS-M3cxAD",
        "colab": {
          "base_uri": "https://localhost:8080/"
        },
        "outputId": "486b4b89-22a7-4fe0-fb60-7066592bcbbd"
      },
      "execution_count": null,
      "outputs": [
        {
          "output_type": "stream",
          "name": "stderr",
          "text": [
            "/usr/local/lib/python3.8/dist-packages/sklearn/base.py:443: UserWarning: X has feature names, but RandomForestClassifier was fitted without feature names\n",
            "  warnings.warn(\n"
          ]
        },
        {
          "output_type": "execute_result",
          "data": {
            "text/plain": [
              "0.8158415841584158"
            ]
          },
          "metadata": {},
          "execution_count": 25
        }
      ]
    },
    {
      "cell_type": "markdown",
      "source": [
        "Classification Report Random Forest Classifier"
      ],
      "metadata": {
        "id": "zznR061rjRn7"
      }
    },
    {
      "cell_type": "code",
      "source": [
        "print(classification_report(y_tst,optimal_randomf.predict(Xtst_N)))"
      ],
      "metadata": {
        "id": "IZKfVi3WkMbb",
        "colab": {
          "base_uri": "https://localhost:8080/"
        },
        "outputId": "cb6663a1-f6f4-4e79-cc5b-24ad76a3616c"
      },
      "execution_count": null,
      "outputs": [
        {
          "output_type": "stream",
          "name": "stdout",
          "text": [
            "              precision    recall  f1-score   support\n",
            "\n",
            "           0       0.83      0.80      0.81       251\n",
            "           1       0.81      0.83      0.82       254\n",
            "\n",
            "    accuracy                           0.82       505\n",
            "   macro avg       0.82      0.82      0.82       505\n",
            "weighted avg       0.82      0.82      0.82       505\n",
            "\n"
          ]
        },
        {
          "output_type": "stream",
          "name": "stderr",
          "text": [
            "/usr/local/lib/python3.8/dist-packages/sklearn/base.py:443: UserWarning: X has feature names, but RandomForestClassifier was fitted without feature names\n",
            "  warnings.warn(\n"
          ]
        }
      ]
    },
    {
      "cell_type": "markdown",
      "source": [
        "## Random Forest Confusion Matrix"
      ],
      "metadata": {
        "id": "1ZzqN_TjiXXR"
      }
    },
    {
      "cell_type": "code",
      "source": [
        "plot_confusion_matrix(optimal_randomf, Xtst_N, y_tst)  \n",
        "plt.show()"
      ],
      "metadata": {
        "id": "w8DjJfhwip2h",
        "colab": {
          "base_uri": "https://localhost:8080/",
          "height": 334
        },
        "outputId": "78c6eb92-8744-4f53-cfbe-ed062bfc4e3d"
      },
      "execution_count": null,
      "outputs": [
        {
          "output_type": "stream",
          "name": "stderr",
          "text": [
            "/usr/local/lib/python3.8/dist-packages/sklearn/base.py:443: UserWarning: X has feature names, but RandomForestClassifier was fitted without feature names\n",
            "  warnings.warn(\n"
          ]
        },
        {
          "output_type": "display_data",
          "data": {
            "text/plain": [
              "<Figure size 432x288 with 2 Axes>"
            ],
            "image/png": "[encoded data removed]"
          },
          "metadata": {
            "needs_background": "light"
          }
        }
      ]
    },
    {
      "cell_type": "markdown",
      "source": [
        "# Second Dataset Recommendation"
      ],
      "metadata": {
        "id": "Pb-VN43AyXBt"
      }
    },
    {
      "cell_type": "code",
      "source": [
        "dataBase = pd.read_csv('data/data.csv')\n",
        "song_artist_id = dataBase[['artists','id','name']].copy()\n",
        "dataBase.drop('artists',inplace = True, axis = 1)\n",
        "dataBase.drop('id',inplace = True, axis = 1)\n",
        "dataBase.drop('name',inplace = True, axis = 1)\n",
        "dataBase.drop('year',inplace= True, axis = 1)\n",
        "dataBase.drop('explicit',inplace = True, axis = 1)\n",
        "dataBase.drop('popularity',inplace = True, axis = 1)\n",
        "dataBase.drop('release_date',inplace = True, axis = 1)\n",
        "dataBase = dataBase[['acousticness','danceability','duration_ms','energy','instrumentalness','key', 'liveness','loudness','mode','speechiness','tempo','valence']]\n",
        "X2 = dataBase.iloc[:,:]\n",
        "songDB = X2.to_numpy()\n",
        "songDB\n",
        "songDB_N = copy.copy(songDB)\n",
        "mean2 = songDB_N.mean(axis=0)\n",
        "std2 = songDB_N.std(axis=0)\n",
        "songDB_N -= mean\n",
        "songDB_N /= std\n",
        "# songDB_N -= mean2\n",
        "# songDB_N /= std2"
      ],
      "metadata": {
        "id": "wl-AhUC7yfpI"
      },
      "execution_count": null,
      "outputs": []
    },
    {
      "cell_type": "code",
      "source": [
        "# order recommendation\n",
        "probArr = optimal_randomf.predict_proba(songDB_N)\n",
        "PDF = [i for i in probArr[:,1]]\n",
        "song_artist_id['Probabiltiy'] = PDF\n",
        "song_artist_id =song_artist_id.sort_values(by=['Probabiltiy'],ascending=False)\n",
        "song_artist_id"
      ],
      "metadata": {
        "colab": {
          "base_uri": "https://localhost:8080/"
        },
        "id": "CjuSXoNAxitG",
        "outputId": "32acf3a5-c409-430e-eb26-c42b6e813f2f"
      },
      "execution_count": null,
      "outputs": [
        {
          "output_type": "execute_result",
          "data": {
            "text/plain": [
              "                                                  artists  \\\n",
              "148465                                 ['Patrice Rushen']   \n",
              "100245                                           ['Meco']   \n",
              "101009                                       ['Bohannon']   \n",
              "100877                                 ['Bernard Wright']   \n",
              "100646                                    ['Black Ivory']   \n",
              "...                                                   ...   \n",
              "50937   ['Wolfgang Amadeus Mozart', 'Capella Istropoli...   \n",
              "138448                                      ['Shinedown']   \n",
              "156053  ['Sergei Rachmaninoff', 'William Kapell', 'Edm...   \n",
              "51176   ['Ludwig van Beethoven', 'Pinchas Zukerman', '...   \n",
              "51960                                 ['George Gershwin']   \n",
              "\n",
              "                            id  \\\n",
              "148465  37VzvL5Zu21ogLgKm0J8lY   \n",
              "100245  1CarOKwggz4XkxFfr09sRp   \n",
              "101009  4fW5B7Dp2hJoyMKbg4tkxg   \n",
              "100877  0tUYG0VaHjQDbdNQFawtDY   \n",
              "100646  0iijpRubQCC5cBUGd0U8sf   \n",
              "...                        ...   \n",
              "50937   7va2xRMFprSkJAjPvFipvF   \n",
              "138448  5AtRcGbmFeHtnbQ4k93UW7   \n",
              "156053  5g73emlmJYrMA25OL4lT1L   \n",
              "51176   6PvNbpPdHtKi4b2i3VXp17   \n",
              "51960   2XSBXz4uDvx1PQPYJWQpcK   \n",
              "\n",
              "                                                   name  Probabiltiy  \n",
              "148465                       Get Off (You Fascinate Me)          1.0  \n",
              "100245                  Medley: Star Wars - 12\" Version          1.0  \n",
              "101009                Take the Country to New York City          1.0  \n",
              "100877                                         Spinnin'          1.0  \n",
              "100646                                         Mainline          1.0  \n",
              "...                                                 ...          ...  \n",
              "50937   Symphony No. 28 in C Major, K. 200: II. Andante          0.0  \n",
              "138448                                    Second Chance          0.0  \n",
              "156053    Cello Sonata in G Minor, Op. 19: III. Andante          0.0  \n",
              "51176             Violin Romance No.1 In G Major, Op.40          0.0  \n",
              "51960                                  Rhapsody in Blue          0.0  \n",
              "\n",
              "[170653 rows x 4 columns]"
            ],
            "text/html": [
              "\n",
              "  <div id=\"df-3fb95da7-9de9-4005-aaa3-aa22e089174b\">\n",
              "    <div class=\"colab-df-container\">\n",
              "      <div>\n",
              "<style scoped>\n",
              "    .dataframe tbody tr th:only-of-type {\n",
              "        vertical-align: middle;\n",
              "    }\n",
              "\n",
              "    .dataframe tbody tr th {\n",
              "        vertical-align: top;\n",
              "    }\n",
              "\n",
              "    .dataframe thead th {\n",
              "        text-align: right;\n",
              "    }\n",
              "</style>\n",
              "<table border=\"1\" class=\"dataframe\">\n",
              "  <thead>\n",
              "    <tr style=\"text-align: right;\">\n",
              "      <th></th>\n",
              "      <th>artists</th>\n",
              "      <th>id</th>\n",
              "      <th>name</th>\n",
              "      <th>Probabiltiy</th>\n",
              "    </tr>\n",
              "  </thead>\n",
              "  <tbody>\n",
              "    <tr>\n",
              "      <th>148465</th>\n",
              "      <td>['Patrice Rushen']</td>\n",
              "      <td>37VzvL5Zu21ogLgKm0J8lY</td>\n",
              "      <td>Get Off (You Fascinate Me)</td>\n",
              "      <td>1.0</td>\n",
              "    </tr>\n",
              "    <tr>\n",
              "      <th>100245</th>\n",
              "      <td>['Meco']</td>\n",
              "      <td>1CarOKwggz4XkxFfr09sRp</td>\n",
              "      <td>Medley: Star Wars - 12\" Version</td>\n",
              "      <td>1.0</td>\n",
              "    </tr>\n",
              "    <tr>\n",
              "      <th>101009</th>\n",
              "      <td>['Bohannon']</td>\n",
              "      <td>4fW5B7Dp2hJoyMKbg4tkxg</td>\n",
              "      <td>Take the Country to New York City</td>\n",
              "      <td>1.0</td>\n",
              "    </tr>\n",
              "    <tr>\n",
              "      <th>100877</th>\n",
              "      <td>['Bernard Wright']</td>\n",
              "      <td>0tUYG0VaHjQDbdNQFawtDY</td>\n",
              "      <td>Spinnin'</td>\n",
              "      <td>1.0</td>\n",
              "    </tr>\n",
              "    <tr>\n",
              "      <th>100646</th>\n",
              "      <td>['Black Ivory']</td>\n",
              "      <td>0iijpRubQCC5cBUGd0U8sf</td>\n",
              "      <td>Mainline</td>\n",
              "      <td>1.0</td>\n",
              "    </tr>\n",
              "    <tr>\n",
              "      <th>...</th>\n",
              "      <td>...</td>\n",
              "      <td>...</td>\n",
              "      <td>...</td>\n",
              "      <td>...</td>\n",
              "    </tr>\n",
              "    <tr>\n",
              "      <th>50937</th>\n",
              "      <td>['Wolfgang Amadeus Mozart', 'Capella Istropoli...</td>\n",
              "      <td>7va2xRMFprSkJAjPvFipvF</td>\n",
              "      <td>Symphony No. 28 in C Major, K. 200: II. Andante</td>\n",
              "      <td>0.0</td>\n",
              "    </tr>\n",
              "    <tr>\n",
              "      <th>138448</th>\n",
              "      <td>['Shinedown']</td>\n",
              "      <td>5AtRcGbmFeHtnbQ4k93UW7</td>\n",
              "      <td>Second Chance</td>\n",
              "      <td>0.0</td>\n",
              "    </tr>\n",
              "    <tr>\n",
              "      <th>156053</th>\n",
              "      <td>['Sergei Rachmaninoff', 'William Kapell', 'Edm...</td>\n",
              "      <td>5g73emlmJYrMA25OL4lT1L</td>\n",
              "      <td>Cello Sonata in G Minor, Op. 19: III. Andante</td>\n",
              "      <td>0.0</td>\n",
              "    </tr>\n",
              "    <tr>\n",
              "      <th>51176</th>\n",
              "      <td>['Ludwig van Beethoven', 'Pinchas Zukerman', '...</td>\n",
              "      <td>6PvNbpPdHtKi4b2i3VXp17</td>\n",
              "      <td>Violin Romance No.1 In G Major, Op.40</td>\n",
              "      <td>0.0</td>\n",
              "    </tr>\n",
              "    <tr>\n",
              "      <th>51960</th>\n",
              "      <td>['George Gershwin']</td>\n",
              "      <td>2XSBXz4uDvx1PQPYJWQpcK</td>\n",
              "      <td>Rhapsody in Blue</td>\n",
              "      <td>0.0</td>\n",
              "    </tr>\n",
              "  </tbody>\n",
              "</table>\n",
              "<p>170653 rows × 4 columns</p>\n",
              "</div>\n",
              "      <button class=\"colab-df-convert\" onclick=\"convertToInteractive('df-3fb95da7-9de9-4005-aaa3-aa22e089174b')\"\n",
              "              title=\"Convert this dataframe to an interactive table.\"\n",
              "              style=\"display:none;\">\n",
              "        \n",
              "  <svg xmlns=\"http://www.w3.org/2000/svg\" height=\"24px\"viewBox=\"0 0 24 24\"\n",
              "       width=\"24px\">\n",
              "    <path d=\"M0 0h24v24H0V0z\" fill=\"none\"/>\n",
              "    <path d=\"M18.56 5.44l.94 2.06.94-2.06 2.06-.94-2.06-.94-.94-2.06-.94 2.06-2.06.94zm-11 1L8.5 8.5l.94-2.06 2.06-.94-2.06-.94L8.5 2.5l-.94 2.06-2.06.94zm10 10l.94 2.06.94-2.06 2.06-.94-2.06-.94-.94-2.06-.94 2.06-2.06.94z\"/><path d=\"M17.41 7.96l-1.37-1.37c-.4-.4-.92-.59-1.43-.59-.52 0-1.04.2-1.43.59L10.3 9.45l-7.72 7.72c-.78.78-.78 2.05 0 2.83L4 21.41c.39.39.9.59 1.41.59.51 0 1.02-.2 1.41-.59l7.78-7.78 2.81-2.81c.8-.78.8-2.07 0-2.86zM5.41 20L4 18.59l7.72-7.72 1.47 1.35L5.41 20z\"/>\n",
              "  </svg>\n",
              "      </button>\n",
              "      \n",
              "  <style>\n",
              "    .colab-df-container {\n",
              "      display:flex;\n",
              "      flex-wrap:wrap;\n",
              "      gap: 12px;\n",
              "    }\n",
              "\n",
              "    .colab-df-convert {\n",
              "      background-color: #E8F0FE;\n",
              "      border: none;\n",
              "      border-radius: 50%;\n",
              "      cursor: pointer;\n",
              "      display: none;\n",
              "      fill: #1967D2;\n",
              "      height: 32px;\n",
              "      padding: 0 0 0 0;\n",
              "      width: 32px;\n",
              "    }\n",
              "\n",
              "    .colab-df-convert:hover {\n",
              "      background-color: #E2EBFA;\n",
              "      box-shadow: 0px 1px 2px rgba(60, 64, 67, 0.3), 0px 1px 3px 1px rgba(60, 64, 67, 0.15);\n",
              "      fill: #174EA6;\n",
              "    }\n",
              "\n",
              "    [theme=dark] .colab-df-convert {\n",
              "      background-color: #3B4455;\n",
              "      fill: #D2E3FC;\n",
              "    }\n",
              "\n",
              "    [theme=dark] .colab-df-convert:hover {\n",
              "      background-color: #434B5C;\n",
              "      box-shadow: 0px 1px 3px 1px rgba(0, 0, 0, 0.15);\n",
              "      filter: drop-shadow(0px 1px 2px rgba(0, 0, 0, 0.3));\n",
              "      fill: #FFFFFF;\n",
              "    }\n",
              "  </style>\n",
              "\n",
              "      <script>\n",
              "        const buttonEl =\n",
              "          document.querySelector('#df-3fb95da7-9de9-4005-aaa3-aa22e089174b button.colab-df-convert');\n",
              "        buttonEl.style.display =\n",
              "          google.colab.kernel.accessAllowed ? 'block' : 'none';\n",
              "\n",
              "        async function convertToInteractive(key) {\n",
              "          const element = document.querySelector('#df-3fb95da7-9de9-4005-aaa3-aa22e089174b');\n",
              "          const dataTable =\n",
              "            await google.colab.kernel.invokeFunction('convertToInteractive',\n",
              "                                                     [key], {});\n",
              "          if (!dataTable) return;\n",
              "\n",
              "          const docLinkHtml = 'Like what you see? Visit the ' +\n",
              "            '<a target=\"_blank\" href=https://colab.research.google.com/notebooks/data_table.ipynb>data table notebook</a>'\n",
              "            + ' to learn more about interactive tables.';\n",
              "          element.innerHTML = '';\n",
              "          dataTable['output_type'] = 'display_data';\n",
              "          await google.colab.output.renderOutput(dataTable, element);\n",
              "          const docLink = document.createElement('div');\n",
              "          docLink.innerHTML = docLinkHtml;\n",
              "          element.appendChild(docLink);\n",
              "        }\n",
              "      </script>\n",
              "    </div>\n",
              "  </div>\n",
              "  "
            ]
          },
          "metadata": {},
          "execution_count": 29
        }
      ]
    }
  ]
}